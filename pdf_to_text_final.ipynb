{
 "cells": [
  {
   "cell_type": "code",
   "execution_count": 65,
   "metadata": {},
   "outputs": [],
   "source": [
    "# import PyPDF2\n",
    "# import pdftotext\n",
    "import pandas as pd\n",
    "import numpy as np\n",
    "# import requests\n",
    "# from selenium import webdriver\n",
    "# import os\n",
    "# import re\n",
    "# import io\n",
    "# import pdf2image\n",
    "# from selenium.webdriver.chrome.service import Service\n",
    "# from webdriver_manager.chrome import ChromeDriverManager\n",
    "# from selenium.webdriver.common.by import By\n",
    "# from selenium.common.exceptions import NoSuchElementException\n",
    "# from wand.image import Image as wi\n",
    "# from PIL import Image\n",
    "import pytesseract\n",
    "# import gc\n",
    "import cv2\n",
    "# import easyocr"
   ]
  },
  {
   "cell_type": "code",
   "execution_count": 66,
   "metadata": {},
   "outputs": [],
   "source": [
    "pytesseract.pytesseract.tesseract_cmd = r'C:\\Program Files\\Tesseract-OCR\\tesseract.exe'"
   ]
  },
  {
   "cell_type": "code",
   "execution_count": 67,
   "metadata": {},
   "outputs": [],
   "source": [
    "img = cv2.imread('test_doc.png')\n",
    "img = cv2.cvtColor(img, cv2.COLOR_BGR2GRAY)\n",
    "img = cv2.threshold(img, 0, 255, cv2.THRESH_BINARY + cv2.THRESH_OTSU)[1]\n",
    "img = cv2.medianBlur(img, 5)"
   ]
  },
  {
   "cell_type": "code",
   "execution_count": 68,
   "metadata": {},
   "outputs": [
    {
     "name": "stdout",
     "output_type": "stream",
     "text": [
      "Test Doc:\n",
      "\n",
      "Hello World\n",
      "\n"
     ]
    }
   ],
   "source": [
    "# img = Image.open(\"test_doc.png\")\n",
    "img = cv2.imread('test_doc.png')\n",
    "img = cv2.resize(img, None, fx=1.2, fy=1.2, interpolation=cv2.INTER_CUBIC)\n",
    "img = cv2.cvtColor(img, cv2.COLOR_BGR2GRAY)\n",
    "kernel = np.ones((1, 1), np.uint8)\n",
    "img = cv2.dilate(img, kernel, iterations=1)\n",
    "img = cv2.erode(img, kernel, iterations=1)\n",
    "cv2.threshold(cv2.GaussianBlur(img, (5, 5), 0), 0, 255, cv2.THRESH_BINARY + cv2.THRESH_OTSU)[1]\n",
    "\n",
    "text = pytesseract.image_to_string(img, lang = 'eng')\n",
    "\n",
    "print(text)"
   ]
  },
  {
   "cell_type": "code",
   "execution_count": 72,
   "metadata": {},
   "outputs": [
    {
     "name": "stdout",
     "output_type": "stream",
     "text": [
      "INVOICE\n",
      "\n",
      "Bill To\n",
      "\n",
      "Rob & Joe Traders\n",
      "4141 Hacienda Drive\n",
      "Pleasanton\n",
      "\n",
      "‘94588 CA\n",
      "\n",
      "USA\n",
      "\n",
      "Invoice Date Terms Due Date\n",
      "\n",
      "15 Feb 2016 Due On Receigt 15 Feb 2016\n",
      "\n",
      "# = Kem & Description\n",
      "\n",
      "1 Brochure Design\n",
      "Brochure Design Single Sided Color\n",
      "\n",
      "2 Web Design Packages{Ternplate) - Basic\n",
      "Custom Themes for your business. Inclusive of 10 hours\n",
      "of marketing and arinual trai\n",
      "\n",
      "3 Print Ad - Basic - Color\n",
      "Print Ad 1/8 size Color\n",
      "\n",
      "Thanks for your business,\n",
      "\n",
      "Payment Options PoyPol Gi\n",
      "\n",
      "Terms & Conditions\n",
      "\n",
      "1.00\n",
      "\n",
      "1.00\n",
      "\n",
      "POW\n",
      "\n",
      "321014\n",
      "\n",
      "309,00 0,00\n",
      "250.00 0.00\n",
      "80,00 0.00\n",
      "Sub Total\n",
      "\n",
      "Sample Tax! (4.70%)\n",
      "Sample Tax2 (7.00%)\n",
      "Total\n",
      "\n",
      "Balance Due\n",
      "\n",
      "Zylkar Inc\n",
      "414) Hacienda Drive\n",
      "Pieasanton\n",
      "\n",
      "CAUSA 94588\n",
      "India\n",
      "\n",
      "INV-17\n",
      "\n",
      "Project Name\n",
      "Design project\n",
      "\n",
      "You can eher make online payment or pay cash at the time of delivery. Any damaged goods can be returned within 48 hours from the\n",
      "\n",
      "time of delivery.\n",
      "\n"
     ]
    }
   ],
   "source": [
    "img = cv2.imread('advert_invoice.jpg')\n",
    "# clahe = cv2.createCLAHE()\n",
    "# clahe1 = clahe.apply(clahe)\n",
    "# sharpen_kernel = np.array([[-1,-1,-1], [-1,9,-1], [-1,-1,-1]])\n",
    "# sharpen = cv2.filter2D(clahe, -1, sharpen_kernel)\n",
    "\n",
    "# clahe = cv2.createCLAHE().apply(img)\n",
    "# sharpen_kernel = np.array([[-1,-1,-1], [-1,9,-1], [-1,-1,-1]])\n",
    "# sharpen = cv2.filter2D(clahe, -1, sharpen_kernel)\n",
    "# thresh = cv2.threshold(sharpen, 0, 255, cv2.THRESH_BINARY + cv2.THRESH_OTSU)[1]\n",
    "\n",
    "img = cv2.resize(img, None, fx=2, fy=2, interpolation=cv2.INTER_CUBIC)\n",
    "img = cv2.cvtColor(img, cv2.COLOR_BGR2GRAY)\n",
    "# img = cv2.GaussianBlur(img, (11, 11), 7)\n",
    "# img = cv2.Canny(img, 0, 42)\n",
    "kernel = np.ones((2, 2), np.uint8)\n",
    "img = cv2.dilate(img, kernel, iterations=1)\n",
    "img = cv2.erode(img, kernel, iterations=1)\n",
    "\n",
    "\n",
    "# contours, hierarchies = cv2.findContours(process(img), cv2.RETR_EXTERNAL, cv2.CHAIN_APPROX_NONE)\n",
    "# cnt = max(contours, key=cv2.contourArea)\n",
    "# peri = cv2.arcLength(cnt, True)\n",
    "# approx = cv2.approxPolyDP(cnt, 0.004 * peri, True)\n",
    "# cv2.drawContours(img, [approx], -1, (255, 255, 0), 2)\n",
    "\n",
    "# cv2.threshold(cv2.GaussianBlur(img, (5, 5), 0), 0, 255, cv2.THRESH_BINARY + cv2.THRESH_OTSU)[1]\n",
    "# cv2.threshold(cv2.bilateralFilter(img, 5, 75, 75), 0, 255, cv2.THRESH_BINARY + cv2.THRESH_OTSU)[1]\n",
    "# cv2.threshold(cv2.medianBlur(img, 3), 0, 255, cv2.THRESH_BINARY + cv2.THRESH_OTSU)[1]\n",
    "# cv2.adaptiveThreshold(cv2.GaussianBlur(img, (5, 5), 0), 255, cv2.ADAPTIVE_THRESH_GAUSSIAN_C, cv2.THRESH_BINARY, 31, 2)\n",
    "# cv2.adaptiveThreshold(cv2.bilateralFilter(img, 9, 75, 75), 255, cv2.ADAPTIVE_THRESH_GAUSSIAN_C, cv2.THRESH_BINARY, 31, 2)\n",
    "# cv2.adaptiveThreshold(cv2.medianBlur(img, 3), 255, cv2.ADAPTIVE_THRESH_GAUSSIAN_C, cv2.THRESH_BINARY, 31, 2)\n",
    "\n",
    "\n",
    "\n",
    "# cv2.imshow('clahe', clahe)\n",
    "# cv2.imwrite('clahe.png', clahe)\n",
    "# cv2.imshow('sharpen', sharpen)\n",
    "# cv2.imwrite('sharpen.png', sharpen)\n",
    "# cv2.imshow('thresh', thresh)\n",
    "# cv2.imwrite('thresh.png', thresh)\n",
    "# cv2.waitKey()\n",
    "\n",
    "myText = pytesseract.image_to_string(img, lang = 'eng')\n",
    "\n",
    "print(myText)"
   ]
  },
  {
   "cell_type": "code",
   "execution_count": 56,
   "metadata": {},
   "outputs": [
    {
     "data": {
      "text/plain": [
       "<matplotlib.image.AxesImage at 0x1a942a270d0>"
      ]
     },
     "execution_count": 56,
     "metadata": {},
     "output_type": "execute_result"
    },
    {
     "data": {
      "image/png": "[encoded data removed]",
      "text/plain": [
       "<Figure size 432x288 with 1 Axes>"
      ]
     },
     "metadata": {
      "needs_background": "light"
     },
     "output_type": "display_data"
    }
   ],
   "source": [
    "\n",
    "# image = cv2.imread('apple_invoice.png', 0)\n",
    "\n",
    "\n",
    "# thresh = cv2.threshold(sharpen, 0, 255, cv2.THRESH_BINARY + cv2.THRESH_OTSU)[1]\n",
    "\n",
    "# sharpen_kernel = np.array([[-1,-1,-1], [-1,9,-1], [-1,-1,-1]])\n",
    "# sharpen = cv2.filter2D(clahe, -1, sharpen_kernel)\n",
    "# thresh = cv2.threshold(sharpen, 0, 255, cv2.THRESH_BINARY + cv2.THRESH_OTSU)[1]\n",
    "# plt.imshow(clahe)\n",
    "\n",
    "# # cv2.imshow('clahe', clahe)\n",
    "# # cv2.imwrite('clahe.png', clahe)\n",
    "# # cv2.imshow('sharpen', sharpen)\n",
    "# # cv2.imwrite('sharpen.png', sharpen)\n",
    "# # cv2.imshow('thresh', thresh)\n",
    "# # cv2.imwrite('thresh.png', thresh)\n",
    "# # cv2.waitKey()\n",
    "# # myText = pytesseract.image_to_string(img, lang = 'eng')\n",
    "\n",
    "# # print(myText)"
   ]
  },
  {
   "cell_type": "code",
   "execution_count": 105,
   "metadata": {},
   "outputs": [
    {
     "data": {
      "text/plain": [
       "str"
      ]
     },
     "execution_count": 105,
     "metadata": {},
     "output_type": "execute_result"
    }
   ],
   "source": [
    "type(myText)"
   ]
  },
  {
   "cell_type": "code",
   "execution_count": 73,
   "metadata": {},
   "outputs": [
    {
     "name": "stdout",
     "output_type": "stream",
     "text": [
      "['INVOICE', '', 'Bill To', '', 'Rob & Joe Traders', '4141 Hacienda Drive', 'Pleasanton', '', '‘94588 CA', '', 'USA', '', 'Invoice Date Terms Due Date', '', '15 Feb 2016 Due On Receigt 15 Feb 2016', '', '# = Kem & Description', '', '1 Brochure Design', 'Brochure Design Single Sided Color', '', '2 Web Design Packages{Ternplate) - Basic', 'Custom Themes for your business. Inclusive of 10 hours', 'of marketing and arinual trai', '', '3 Print Ad - Basic - Color', 'Print Ad 1/8 size Color', '', 'Thanks for your business,', '', 'Payment Options PoyPol Gi', '', 'Terms & Conditions', '', '1.00', '', '1.00', '', 'POW', '', '321014', '', '309,00 0,00', '250.00 0.00', '80,00 0.00', 'Sub Total', '', 'Sample Tax! (4.70%)', 'Sample Tax2 (7.00%)', 'Total', '', 'Balance Due', '', 'Zylkar Inc', '414) Hacienda Drive', 'Pieasanton', '', 'CAUSA 94588', 'India', '', 'INV-17', '', 'Project Name', 'Design project', '', 'You can eher make online payment or pay cash at the time of delivery. Any damaged goods can be returned within 48 hours from the', '', 'time of delivery.', '']\n"
     ]
    }
   ],
   "source": [
    "# def Convert(string):\n",
    "#     li = list(string.split(\" \"))\n",
    "#     return li\n",
    "  \n",
    "# print(Convert(myText))\n",
    "\n",
    "li = list(myText.split(\"\\n\"))\n",
    "print(li)"
   ]
  },
  {
   "cell_type": "code",
   "execution_count": 76,
   "metadata": {},
   "outputs": [
    {
     "name": "stdout",
     "output_type": "stream",
     "text": [
      "['INVOICE', 'Bill To', 'Rob & Joe Traders', '4141 Hacienda Drive', 'Pleasanton', '‘94588 CA', 'USA', 'Invoice Date Terms Due Date', '15 Feb 2016 Due On Receigt 15 Feb 2016', '# = Kem & Description', '1 Brochure Design', 'Brochure Design Single Sided Color', '2 Web Design Packages{Ternplate) - Basic', 'Custom Themes for your business. Inclusive of 10 hours', 'of marketing and arinual trai', '3 Print Ad - Basic - Color', 'Print Ad 1/8 size Color', 'Thanks for your business,', 'Payment Options PoyPol Gi', 'Terms & Conditions', '1.00', '1.00', 'POW', '321014', '309,00 0,00', '250.00 0.00', '80,00 0.00', 'Sub Total', 'Sample Tax! (4.70%)', 'Sample Tax2 (7.00%)', 'Total', 'Balance Due', 'Zylkar Inc', '414) Hacienda Drive', 'Pieasanton', 'CAUSA 94588', 'India', 'INV-17', 'Project Name', 'Design project', 'You can eher make online payment or pay cash at the time of delivery. Any damaged goods can be returned within 48 hours from the', 'time of delivery.']\n"
     ]
    }
   ],
   "source": [
    "res = []\n",
    "for ele in li:\n",
    "    if ele.strip():\n",
    "        res.append(ele)\n",
    "\n",
    "print(res)"
   ]
  },
  {
   "cell_type": "code",
   "execution_count": 77,
   "metadata": {},
   "outputs": [
    {
     "name": "stdout",
     "output_type": "stream",
     "text": [
      "1\n"
     ]
    }
   ],
   "source": [
    "ind = res.index('Bill To')\n",
    "print(ind)"
   ]
  },
  {
   "cell_type": "code",
   "execution_count": null,
   "metadata": {},
   "outputs": [],
   "source": [
    "for i in res:\n",
    "    \n",
    "ind = res.index('Bill To')\n",
    "print(ind)"
   ]
  },
  {
   "cell_type": "code",
   "execution_count": 78,
   "metadata": {},
   "outputs": [],
   "source": [
    "res1 = [i for i in res if 'Due Date' in i]"
   ]
  },
  {
   "cell_type": "code",
   "execution_count": 84,
   "metadata": {},
   "outputs": [
    {
     "name": "stdout",
     "output_type": "stream",
     "text": [
      "['Invoice Date Terms Due Date']\n"
     ]
    }
   ],
   "source": [
    "print (str(res1))"
   ]
  },
  {
   "cell_type": "code",
   "execution_count": 85,
   "metadata": {},
   "outputs": [
    {
     "name": "stdout",
     "output_type": "stream",
     "text": [
      "7\n"
     ]
    }
   ],
   "source": [
    "ind1 = res.index(res1[0])\n",
    "print(ind1)"
   ]
  },
  {
   "cell_type": "code",
   "execution_count": 16,
   "metadata": {},
   "outputs": [
    {
     "name": "stdout",
     "output_type": "stream",
     "text": [
      "Empty DataFrame\n",
      "Columns: [Bill To, Due by]\n",
      "Index: []\n"
     ]
    }
   ],
   "source": [
    "df = pd.DataFrame(columns = ['Bill To', 'Due Date'])\n",
    "print(df)"
   ]
  },
  {
   "cell_type": "code",
   "execution_count": 86,
   "metadata": {},
   "outputs": [
    {
     "data": {
      "text/html": [
       "<div>\n",
       "<style scoped>\n",
       "    .dataframe tbody tr th:only-of-type {\n",
       "        vertical-align: middle;\n",
       "    }\n",
       "\n",
       "    .dataframe tbody tr th {\n",
       "        vertical-align: top;\n",
       "    }\n",
       "\n",
       "    .dataframe thead th {\n",
       "        text-align: right;\n",
       "    }\n",
       "</style>\n",
       "<table border=\"1\" class=\"dataframe\">\n",
       "  <thead>\n",
       "    <tr style=\"text-align: right;\">\n",
       "      <th></th>\n",
       "      <th>Bill To</th>\n",
       "      <th>Due by</th>\n",
       "    </tr>\n",
       "  </thead>\n",
       "  <tbody>\n",
       "    <tr>\n",
       "      <th>0</th>\n",
       "      <td>Rob &amp; Joe Traders</td>\n",
       "      <td>15 Feb 2016</td>\n",
       "    </tr>\n",
       "    <tr>\n",
       "      <th>1</th>\n",
       "      <td>Rob &amp; Joe Traders</td>\n",
       "      <td>15 Feb 2016</td>\n",
       "    </tr>\n",
       "  </tbody>\n",
       "</table>\n",
       "</div>"
      ],
      "text/plain": [
       "             Bill To       Due by\n",
       "0  Rob & Joe Traders  15 Feb 2016\n",
       "1  Rob & Joe Traders  15 Feb 2016"
      ]
     },
     "execution_count": 86,
     "metadata": {},
     "output_type": "execute_result"
    }
   ],
   "source": [
    "df = df.append({'Bill To' : res[ind +1], 'Due by' : res[ind1 +1][:11]}, \n",
    "                ignore_index = True)\n",
    "  \n",
    "df"
   ]
  }
 ],
 "metadata": {
  "interpreter": {
   "hash": "b3ba2566441a7c06988d0923437866b63cedc61552a5af99d1f4fb67d367b25f"
  },
  "kernelspec": {
   "display_name": "Python 3.9.7 64-bit ('base': conda)",
   "language": "python",
   "name": "python3"
  },
  "language_info": {
   "codemirror_mode": {
    "name": "ipython",
    "version": 3
   },
   "file_extension": ".py",
   "mimetype": "text/x-python",
   "name": "python",
   "nbconvert_exporter": "python",
   "pygments_lexer": "ipython3",
   "version": "3.9.7"
  },
  "orig_nbformat": 4
 },
 "nbformat": 4,
 "nbformat_minor": 2
}
